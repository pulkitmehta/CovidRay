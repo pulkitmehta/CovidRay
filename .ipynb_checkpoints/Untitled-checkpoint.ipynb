{
 "cells": [
  {
   "cell_type": "markdown",
   "metadata": {},
   "source": [
    "# Model Plotting"
   ]
  },
  {
   "cell_type": "code",
   "execution_count": 1,
   "metadata": {},
   "outputs": [
    {
     "name": "stderr",
     "output_type": "stream",
     "text": [
      "Using TensorFlow backend.\n"
     ]
    }
   ],
   "source": [
    "from tensorflow.keras.models import load_model\n",
    "from keras.utils.vis_utils import plot_model\n",
    "import pydot"
   ]
  },
  {
   "cell_type": "code",
   "execution_count": 2,
   "metadata": {},
   "outputs": [
    {
     "data": {
      "text/plain": [
       "'1.4.1'"
      ]
     },
     "execution_count": 2,
     "metadata": {},
     "output_type": "execute_result"
    }
   ],
   "source": [
    "pydot.__version__"
   ]
  },
  {
   "cell_type": "code",
   "execution_count": 3,
   "metadata": {},
   "outputs": [
    {
     "name": "stdout",
     "output_type": "stream",
     "text": [
      "WARNING:tensorflow:From /anaconda3/lib/python3.7/site-packages/tensorflow/python/ops/resource_variable_ops.py:435: colocate_with (from tensorflow.python.framework.ops) is deprecated and will be removed in a future version.\n",
      "Instructions for updating:\n",
      "Colocations handled automatically by placer.\n",
      "WARNING:tensorflow:From /anaconda3/lib/python3.7/site-packages/tensorflow/python/ops/math_ops.py:3066: to_int32 (from tensorflow.python.ops.math_ops) is deprecated and will be removed in a future version.\n",
      "Instructions for updating:\n",
      "Use tf.cast instead.\n"
     ]
    }
   ],
   "source": [
    "model=load_model(\"./Model/model\")"
   ]
  },
  {
   "cell_type": "code",
   "execution_count": 12,
   "metadata": {},
   "outputs": [],
   "source": [
    "plot_model(model, to_file='model_plot_vertical.png', show_shapes=True, show_layer_names=True,rankdir='TB')\n",
    "plot_model(model, to_file='model_plot_horizontal.png', show_shapes=True, show_layer_names=True,rankdir='LR')"
   ]
  },
  {
   "cell_type": "markdown",
   "metadata": {},
   "source": [
    "# Readme"
   ]
  },
  {
   "cell_type": "markdown",
   "metadata": {},
   "source": [
    "# CovidRay Project\n",
    "\n",
    "[![forthebadge made-with-python](http://ForTheBadge.com/images/badges/made-with-python.svg)](https://www.python.org/)  [![MIT License](https://img.shields.io/apm/l/atomic-design-ui.svg?)](https://github.com/pulkitmehta/CovidRay/blob/master/LICENSE.txt)  ![Version](https://badge.fury.io/gh/tterb%2FHyde.svg)  \n",
    "\n",
    "[![GitHub followers](https://img.shields.io/github/followers/tterb.svg?style=social&label=Follow)](https://github.com//pulkitmehta)  \n",
    "\n",
    "#### An AI based Web Application which can detect COVID-19 and Pneumonia through Chest X-Rays of patient.\n",
    "    \n",
    "\n",
    "\n",
    "![alt text](demon.png)\n",
    "![alt text](https://github.com/pulkitmehta/CovidRay/blob/master/demon.png?raw=true)\n",
    "\n",
    "\n",
    "## Jump To:\n",
    "- [Installation](#Installation)\n",
    "- [Usage](#Usage)\n",
    "- [AI Model Architecture](#CovidRayNet-Model-Architecture)\n",
    "- [Performance Plots](#Performance-and-Accuracy)\n",
    "- [Contributing](#Contributing)\n",
    "- [Copyrights and License](#License)\n",
    "\n",
    "## Installation\n",
    "\n",
    "1. Install Python https://www.python.org\n",
    "- Python Modules Used:\n",
    "    - numpy\n",
    "    - flask\n",
    "    - cv2\n",
    "    - webbrowser\n",
    "    - threading\n",
    "    - tensorflow\n",
    "    - keras\n",
    "- Fix Missing Packages:\n",
    "    - Run command in Terminal/Command Prompt in respective virtual environment: \n",
    "    \n",
    "    ```bash\n",
    "    pip install <package_name>\n",
    "    ```\n",
    "\n",
    "## Usage\n",
    "### Through Terminal\n",
    "  Run \n",
    "```bash\n",
    "python <relative_path_of_app.py>\n",
    "```\n",
    "### Through IPython Notebook\n",
    "  Create a Notebook in project directory and run:\n",
    "\n",
    "```python\n",
    "!python app.py\n",
    "```\n",
    "Check further demonstration in this video: https://www.linkedin.com/feed/update/urn:li:activity:6650976906822942720/\n",
    "\n",
    "\n",
    "\n",
    "\n",
    "## CovidRayNet Model Architecture\n",
    "    It is a CNN based Architecture\n",
    "        _________________________________________________________________\n",
    "    Layer (type)                 Output Shape              Param #   \n",
    "    =================================================================\n",
    "    conv2d_245 (Conv2D)          (None, 100, 100, 100)     200       \n",
    "    _________________________________________________________________\n",
    "    activation_368 (Activation)  (None, 100, 100, 100)     0         \n",
    "    _________________________________________________________________\n",
    "    max_pooling2d_160 (MaxPoolin (None, 50, 50, 100)       0         \n",
    "    _________________________________________________________________\n",
    "    conv2d_246 (Conv2D)          (None, 49, 49, 80)        32080     \n",
    "    _________________________________________________________________\n",
    "    activation_369 (Activation)  (None, 49, 49, 80)        0         \n",
    "    _________________________________________________________________\n",
    "    max_pooling2d_161 (MaxPoolin (None, 24, 24, 80)        0         \n",
    "    _________________________________________________________________\n",
    "    conv2d_247 (Conv2D)          (None, 22, 22, 64)        46144     \n",
    "    _________________________________________________________________\n",
    "    activation_370 (Activation)  (None, 22, 22, 64)        0         \n",
    "    _________________________________________________________________\n",
    "    conv2d_248 (Conv2D)          (None, 20, 20, 32)        18464     \n",
    "    _________________________________________________________________\n",
    "    activation_371 (Activation)  (None, 20, 20, 32)        0         \n",
    "    _________________________________________________________________\n",
    "    conv2d_249 (Conv2D)          (None, 18, 18, 16)        4624      \n",
    "    _________________________________________________________________\n",
    "    activation_372 (Activation)  (None, 18, 18, 16)        0         \n",
    "    _________________________________________________________________\n",
    "    max_pooling2d_162 (MaxPoolin (None, 9, 9, 16)          0         \n",
    "    _________________________________________________________________\n",
    "    conv2d_250 (Conv2D)          (None, 7, 7, 16)          2320      \n",
    "    _________________________________________________________________\n",
    "    activation_373 (Activation)  (None, 7, 7, 16)          0         \n",
    "    _________________________________________________________________\n",
    "    max_pooling2d_163 (MaxPoolin (None, 3, 3, 16)          0         \n",
    "    _________________________________________________________________\n",
    "    flatten_45 (Flatten)         (None, 144)               0         \n",
    "    _________________________________________________________________\n",
    "    dense_123 (Dense)            (None, 64)                9280      \n",
    "    _________________________________________________________________\n",
    "    activation_374 (Activation)  (None, 64)                0         \n",
    "    _________________________________________________________________\n",
    "    dense_124 (Dense)            (None, 16)                1040      \n",
    "    _________________________________________________________________\n",
    "    activation_375 (Activation)  (None, 16)                0         \n",
    "    _________________________________________________________________\n",
    "    dense_125 (Dense)            (None, 3)                 51        \n",
    "    _________________________________________________________________\n",
    "    activation_376 (Activation)  (None, 3)                 0         \n",
    "    =================================================================\n",
    "    Total params: 114,203\n",
    "    Trainable params: 114,203\n",
    "    Non-trainable params: 0\n",
    "    _________________________________________________________________\n",
    "    \n",
    "    \n",
    "![alt text](model_plot_vertical.png)\n",
    "![alt text](https://github.com/pulkitmehta/CovidRay/blob/master/model_plot_vertical.png?raw=true)\n",
    "\n",
    "\n",
    "\n",
    "\n",
    "# Performance and Accuracy\n",
    "\n",
    "    Loss Decay:\n",
    "![alt text](plots/lossDecay.png)\n",
    "![alt text](https://github.com/pulkitmehta/CovidRay/blob/master/plots/lossDecay.png?raw=true)\n",
    "\n",
    "    Accuracy:\n",
    "![alt text](plots/Accuracy.png)\n",
    "![alt text](https://github.com/pulkitmehta/CovidRay/blob/master/plots/Accuracy.png?raw=true)\n",
    "\n",
    "    Confusion Matrix:\n",
    "![alt text](plots/ConfusionMatrix.png)\n",
    "![alt text](https://github.com/pulkitmehta/CovidRay/blob/master/plots/ConfusionMatrix.png?raw=true)\n",
    "\n",
    "\n",
    "![alt text](plots/prcrecall.png)\n",
    "![alt text](https://github.com/pulkitmehta/CovidRay/blob/master/plots/prcrecall.png?raw=true)\n",
    "\n",
    "\n",
    "\n",
    "\n",
    "## Contributing\n",
    "Pull requests are welcome. For major changes, please open an issue first to discuss what you would like to change.\n",
    "\n",
    "Please make sure to update tests as appropriate.\n",
    "\n",
    "\n",
    "\n",
    "\n",
    "\n",
    "## License\n",
    "\n",
    "    MIT License\n",
    "\n",
    "    Copyright (c) 2020 Pulkit Mehta\n",
    "\n",
    "    Permission is hereby granted, free of charge, to any person obtaining a copy\n",
    "    of this software and associated documentation files (the \"Software\"), to deal\n",
    "    in the Software without restriction, including without limitation the rights\n",
    "    to use, copy, modify, merge, publish, distribute, sublicense, and/or sell\n",
    "    copies of the Software, and to permit persons to whom the Software is\n",
    "    furnished to do so, subject to the following conditions:\n",
    "\n",
    "    The above copyright notice and this permission notice shall be included in all\n",
    "    copies or substantial portions of the Software.\n",
    "\n",
    "    THE SOFTWARE IS PROVIDED \"AS IS\", WITHOUT WARRANTY OF ANY KIND, EXPRESS OR\n",
    "    IMPLIED, INCLUDING BUT NOT LIMITED TO THE WARRANTIES OF MERCHANTABILITY,\n",
    "    FITNESS FOR A PARTICULAR PURPOSE AND NONINFRINGEMENT. IN NO EVENT SHALL THE\n",
    "    AUTHORS OR COPYRIGHT HOLDERS BE LIABLE FOR ANY CLAIM, DAMAGES OR OTHER\n",
    "    LIABILITY, WHETHER IN AN ACTION OF CONTRACT, TORT OR OTHERWISE, ARISING FROM,\n",
    "    OUT OF OR IN CONNECTION WITH THE SOFTWARE OR THE USE OR OTHER DEALINGS IN THE\n",
    "    SOFTWARE.\n",
    "\n",
    "\n",
    "   [MIT](https://choosealicense.com/licenses/mit/)\n",
    "\n",
    "\n"
   ]
  },
  {
   "cell_type": "code",
   "execution_count": null,
   "metadata": {},
   "outputs": [],
   "source": []
  }
 ],
 "metadata": {
  "kernelspec": {
   "display_name": "Python 3",
   "language": "python",
   "name": "python3"
  },
  "language_info": {
   "codemirror_mode": {
    "name": "ipython",
    "version": 3
   },
   "file_extension": ".py",
   "mimetype": "text/x-python",
   "name": "python",
   "nbconvert_exporter": "python",
   "pygments_lexer": "ipython3",
   "version": "3.7.1"
  }
 },
 "nbformat": 4,
 "nbformat_minor": 2
}
