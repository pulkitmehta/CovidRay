{
 "cells": [
  {
   "cell_type": "markdown",
   "metadata": {},
   "source": [
    "## Libraries"
   ]
  },
  {
   "cell_type": "code",
   "execution_count": 241,
   "metadata": {},
   "outputs": [],
   "source": [
    "import numpy as np\n",
    "import pandas as pd\n",
    "import matplotlib.pyplot as plt\n",
    "import os\n",
    "import cv2\n",
    "import joblib\n",
    "from tensorflow.keras.models import Sequential\n",
    "from tensorflow.keras.layers import Conv2D,Activation,MaxPooling2D,Flatten,Dense\n",
    "from sklearn.metrics import classification_report, confusion_matrix\n",
    "import seaborn as sns"
   ]
  },
  {
   "cell_type": "markdown",
   "metadata": {},
   "source": [
    "## Loading Data"
   ]
  },
  {
   "cell_type": "code",
   "execution_count": 122,
   "metadata": {},
   "outputs": [],
   "source": [
    "dataset=joblib.load(\"./Data/dataset\")"
   ]
  },
  {
   "cell_type": "code",
   "execution_count": 123,
   "metadata": {},
   "outputs": [],
   "source": [
    "data=dataset['data']\n",
    "target=dataset['target']"
   ]
  },
  {
   "cell_type": "code",
   "execution_count": 124,
   "metadata": {},
   "outputs": [
    {
     "data": {
      "text/plain": [
       "((299, 100, 100), (299,))"
      ]
     },
     "execution_count": 124,
     "metadata": {},
     "output_type": "execute_result"
    }
   ],
   "source": [
    "data.shape, target.shape"
   ]
  },
  {
   "cell_type": "markdown",
   "metadata": {},
   "source": [
    "## Cooking for CNN"
   ]
  },
  {
   "cell_type": "code",
   "execution_count": 125,
   "metadata": {},
   "outputs": [],
   "source": [
    "X=data.reshape(-1,100,100,1)\n",
    "y=pd.get_dummies((pd.DataFrame(target, columns=['Target']).astype('str'))).values"
   ]
  },
  {
   "cell_type": "code",
   "execution_count": 126,
   "metadata": {},
   "outputs": [
    {
     "data": {
      "text/plain": [
       "((299, 100, 100, 1), (299, 3))"
      ]
     },
     "execution_count": 126,
     "metadata": {},
     "output_type": "execute_result"
    }
   ],
   "source": [
    "X.shape,y.shape"
   ]
  },
  {
   "cell_type": "code",
   "execution_count": 194,
   "metadata": {},
   "outputs": [],
   "source": [
    "def plot_history(model_hist):\n",
    "    x_=range(1,len(model_hist.history['loss'])+1)\n",
    "    plt.figure(figsize=(20,5))\n",
    "\n",
    "    plt.plot(x_,model_hist.history['loss'])\n",
    "    plt.plot(x_,model_hist.history['val_loss'],label='validation_set')\n",
    "    plt.xticks(())\n",
    "    plt.ylabel(\"Loss\")\n",
    "    plt.legend()\n",
    "    plt.show()\n",
    "    plt.figure(figsize=(20,5))\n",
    "    plt.plot(x_,model_hist.history['acc'])\n",
    "    plt.plot(x_,model_hist.history['val_acc'],label='validation_set')\n",
    "    plt.xlabel(\"Epochs---->\")\n",
    "    plt.ylabel(\"Accuracy\")\n",
    "    plt.legend()\n",
    "    plt.show()\n",
    "\n"
   ]
  },
  {
   "cell_type": "markdown",
   "metadata": {},
   "source": [
    "## Train Test Splitting"
   ]
  },
  {
   "cell_type": "code",
   "execution_count": 127,
   "metadata": {},
   "outputs": [],
   "source": [
    "from sklearn.model_selection import train_test_split\n",
    "X_train,X_test, y_train, y_test= train_test_split(X,y, test_size=0.5, random_state=42)"
   ]
  },
  {
   "cell_type": "markdown",
   "metadata": {},
   "source": [
    "## Model Architecture and Training"
   ]
  },
  {
   "cell_type": "code",
   "execution_count": 224,
   "metadata": {},
   "outputs": [
    {
     "name": "stdout",
     "output_type": "stream",
     "text": [
      "Train on 134 samples, validate on 15 samples\n",
      "Epoch 1/300\n",
      "134/134 [==============================] - 2s 13ms/sample - loss: 2.1768 - acc: 0.3507 - val_loss: 1.6426 - val_acc: 0.2667\n",
      "Epoch 2/300\n",
      "134/134 [==============================] - 0s 1ms/sample - loss: 1.9559 - acc: 0.3134 - val_loss: 1.5832 - val_acc: 0.3333\n",
      "Epoch 3/300\n",
      "134/134 [==============================] - 0s 1ms/sample - loss: 1.5632 - acc: 0.3881 - val_loss: 0.9905 - val_acc: 0.5333\n",
      "Epoch 4/300\n",
      "134/134 [==============================] - 0s 1ms/sample - loss: 1.0678 - acc: 0.4552 - val_loss: 1.1393 - val_acc: 0.4000\n",
      "Epoch 5/300\n",
      "134/134 [==============================] - 0s 1ms/sample - loss: 1.0135 - acc: 0.5299 - val_loss: 1.1625 - val_acc: 0.3333\n",
      "Epoch 6/300\n",
      "134/134 [==============================] - 0s 1ms/sample - loss: 1.0116 - acc: 0.5000 - val_loss: 1.1231 - val_acc: 0.3333\n",
      "Epoch 7/300\n",
      "134/134 [==============================] - 0s 1ms/sample - loss: 0.9885 - acc: 0.5373 - val_loss: 1.0683 - val_acc: 0.4667\n",
      "Epoch 8/300\n",
      "134/134 [==============================] - 0s 1ms/sample - loss: 0.9412 - acc: 0.6119 - val_loss: 0.9293 - val_acc: 0.5333\n",
      "Epoch 9/300\n",
      "134/134 [==============================] - 0s 1ms/sample - loss: 0.8947 - acc: 0.6045 - val_loss: 0.8180 - val_acc: 0.7333\n",
      "Epoch 10/300\n",
      "134/134 [==============================] - 0s 1ms/sample - loss: 0.8433 - acc: 0.6567 - val_loss: 0.8136 - val_acc: 0.6667\n",
      "Epoch 11/300\n",
      "134/134 [==============================] - 0s 1ms/sample - loss: 0.8041 - acc: 0.6866 - val_loss: 0.7769 - val_acc: 0.6667\n",
      "Epoch 12/300\n",
      "134/134 [==============================] - 0s 1ms/sample - loss: 0.7523 - acc: 0.6791 - val_loss: 0.7733 - val_acc: 0.6667\n",
      "Epoch 13/300\n",
      "134/134 [==============================] - 0s 1ms/sample - loss: 0.7445 - acc: 0.6567 - val_loss: 0.6653 - val_acc: 0.8667\n",
      "Epoch 14/300\n",
      "134/134 [==============================] - 0s 1ms/sample - loss: 0.6671 - acc: 0.7612 - val_loss: 0.6224 - val_acc: 0.8667\n",
      "Epoch 15/300\n",
      "134/134 [==============================] - 0s 1ms/sample - loss: 0.6249 - acc: 0.7463 - val_loss: 0.7485 - val_acc: 0.8000\n",
      "Epoch 16/300\n",
      "134/134 [==============================] - 0s 1ms/sample - loss: 0.7668 - acc: 0.6343 - val_loss: 0.5955 - val_acc: 0.8667\n",
      "Epoch 17/300\n",
      "134/134 [==============================] - 0s 1ms/sample - loss: 0.6159 - acc: 0.6940 - val_loss: 0.5719 - val_acc: 0.8667\n",
      "Epoch 18/300\n",
      "134/134 [==============================] - 0s 1ms/sample - loss: 0.6464 - acc: 0.7239 - val_loss: 0.6220 - val_acc: 0.5333\n",
      "Epoch 19/300\n",
      "134/134 [==============================] - 0s 1ms/sample - loss: 0.5905 - acc: 0.6791 - val_loss: 0.5241 - val_acc: 0.8667\n",
      "Epoch 20/300\n",
      "134/134 [==============================] - 0s 1ms/sample - loss: 0.5204 - acc: 0.7985 - val_loss: 0.4779 - val_acc: 0.8667\n",
      "Epoch 21/300\n",
      "134/134 [==============================] - 0s 1ms/sample - loss: 0.5399 - acc: 0.7313 - val_loss: 0.4412 - val_acc: 0.9333\n",
      "Epoch 22/300\n",
      "134/134 [==============================] - 0s 1ms/sample - loss: 0.5396 - acc: 0.8134 - val_loss: 0.4409 - val_acc: 0.8000\n",
      "Epoch 23/300\n",
      "134/134 [==============================] - 0s 1ms/sample - loss: 0.4840 - acc: 0.8209 - val_loss: 0.4769 - val_acc: 0.8000\n",
      "Epoch 24/300\n",
      "134/134 [==============================] - 0s 1ms/sample - loss: 0.4584 - acc: 0.8284 - val_loss: 0.5443 - val_acc: 0.8667\n",
      "Epoch 25/300\n",
      "134/134 [==============================] - 0s 1ms/sample - loss: 0.4620 - acc: 0.7836 - val_loss: 0.3535 - val_acc: 0.9333\n",
      "Epoch 26/300\n",
      "134/134 [==============================] - 0s 1ms/sample - loss: 0.4060 - acc: 0.8731 - val_loss: 0.3345 - val_acc: 0.9333\n",
      "Epoch 27/300\n",
      "134/134 [==============================] - 0s 1ms/sample - loss: 0.3525 - acc: 0.8881 - val_loss: 0.3851 - val_acc: 0.8667\n",
      "Epoch 28/300\n",
      "134/134 [==============================] - 0s 1ms/sample - loss: 0.3360 - acc: 0.8806 - val_loss: 0.3290 - val_acc: 0.9333\n",
      "Epoch 29/300\n",
      "134/134 [==============================] - 0s 1ms/sample - loss: 0.2796 - acc: 0.9254 - val_loss: 0.3010 - val_acc: 0.8667\n",
      "Epoch 30/300\n",
      "134/134 [==============================] - 0s 1ms/sample - loss: 0.2943 - acc: 0.8806 - val_loss: 0.2924 - val_acc: 0.8667\n",
      "Epoch 31/300\n",
      "134/134 [==============================] - 0s 1ms/sample - loss: 0.2725 - acc: 0.8881 - val_loss: 0.2980 - val_acc: 0.9333\n",
      "Epoch 32/300\n",
      "134/134 [==============================] - 0s 1ms/sample - loss: 0.2385 - acc: 0.9179 - val_loss: 0.2418 - val_acc: 0.9333\n",
      "Epoch 33/300\n",
      "134/134 [==============================] - 0s 1ms/sample - loss: 0.2242 - acc: 0.9403 - val_loss: 0.3274 - val_acc: 0.8667\n",
      "Epoch 34/300\n",
      "134/134 [==============================] - 0s 1ms/sample - loss: 0.2276 - acc: 0.9179 - val_loss: 0.2746 - val_acc: 0.9333\n",
      "Epoch 35/300\n",
      "134/134 [==============================] - 0s 1ms/sample - loss: 0.1880 - acc: 0.9478 - val_loss: 0.3422 - val_acc: 0.8667\n",
      "Epoch 36/300\n",
      "134/134 [==============================] - 0s 1ms/sample - loss: 0.1941 - acc: 0.9478 - val_loss: 0.2126 - val_acc: 0.9333\n",
      "Epoch 37/300\n",
      "134/134 [==============================] - 0s 1ms/sample - loss: 0.2084 - acc: 0.9104 - val_loss: 0.2880 - val_acc: 0.8667\n",
      "Epoch 38/300\n",
      "134/134 [==============================] - 0s 1ms/sample - loss: 0.2544 - acc: 0.9104 - val_loss: 0.3859 - val_acc: 0.8667\n",
      "Epoch 39/300\n",
      "134/134 [==============================] - 0s 1ms/sample - loss: 0.2554 - acc: 0.9104 - val_loss: 0.2747 - val_acc: 0.8667\n",
      "Epoch 40/300\n",
      "134/134 [==============================] - 0s 1ms/sample - loss: 0.2833 - acc: 0.8955 - val_loss: 0.4834 - val_acc: 0.8667\n",
      "Epoch 41/300\n",
      "134/134 [==============================] - 0s 1ms/sample - loss: 0.2302 - acc: 0.9104 - val_loss: 0.1693 - val_acc: 0.9333\n",
      "Epoch 42/300\n",
      "134/134 [==============================] - 0s 1ms/sample - loss: 0.1699 - acc: 0.9403 - val_loss: 0.1651 - val_acc: 0.9333\n",
      "Epoch 43/300\n",
      "134/134 [==============================] - 0s 1ms/sample - loss: 0.1852 - acc: 0.9254 - val_loss: 0.3544 - val_acc: 0.9333\n",
      "Epoch 44/300\n",
      "134/134 [==============================] - 0s 1ms/sample - loss: 0.1785 - acc: 0.9403 - val_loss: 0.1796 - val_acc: 0.9333\n",
      "Epoch 45/300\n",
      "134/134 [==============================] - 0s 1ms/sample - loss: 0.1421 - acc: 0.9478 - val_loss: 0.1621 - val_acc: 0.9333\n",
      "Epoch 46/300\n",
      "134/134 [==============================] - 0s 1ms/sample - loss: 0.1347 - acc: 0.9478 - val_loss: 0.3271 - val_acc: 0.9333\n",
      "Epoch 47/300\n",
      "134/134 [==============================] - 0s 1ms/sample - loss: 0.1360 - acc: 0.9701 - val_loss: 0.2040 - val_acc: 0.8667\n",
      "Epoch 48/300\n",
      "134/134 [==============================] - 0s 1ms/sample - loss: 0.1194 - acc: 0.9701 - val_loss: 0.1441 - val_acc: 0.9333\n",
      "Epoch 49/300\n",
      "134/134 [==============================] - 0s 1ms/sample - loss: 0.1084 - acc: 0.9627 - val_loss: 0.3031 - val_acc: 0.8667\n",
      "Epoch 50/300\n",
      "134/134 [==============================] - 0s 1ms/sample - loss: 0.1036 - acc: 0.9701 - val_loss: 0.2804 - val_acc: 0.8667\n",
      "Epoch 51/300\n",
      "134/134 [==============================] - 0s 1ms/sample - loss: 0.0903 - acc: 0.9627 - val_loss: 0.1498 - val_acc: 0.9333\n",
      "Epoch 52/300\n",
      "134/134 [==============================] - 0s 1ms/sample - loss: 0.0934 - acc: 0.9627 - val_loss: 0.1756 - val_acc: 0.9333\n",
      "Epoch 53/300\n",
      "134/134 [==============================] - 0s 1ms/sample - loss: 0.0750 - acc: 0.9851 - val_loss: 0.2441 - val_acc: 0.9333\n",
      "Epoch 54/300\n",
      "134/134 [==============================] - 0s 1ms/sample - loss: 0.0859 - acc: 0.9701 - val_loss: 0.1587 - val_acc: 0.9333\n",
      "Epoch 55/300\n",
      "134/134 [==============================] - 0s 1ms/sample - loss: 0.0640 - acc: 0.9851 - val_loss: 0.2060 - val_acc: 0.8667\n",
      "Epoch 56/300\n",
      "134/134 [==============================] - 0s 1ms/sample - loss: 0.0748 - acc: 0.9776 - val_loss: 0.1595 - val_acc: 0.9333\n",
      "Epoch 57/300\n",
      "134/134 [==============================] - 0s 1ms/sample - loss: 0.0638 - acc: 0.9851 - val_loss: 0.3005 - val_acc: 0.9333\n",
      "Epoch 58/300\n",
      "134/134 [==============================] - 0s 1ms/sample - loss: 0.0597 - acc: 0.9851 - val_loss: 0.1807 - val_acc: 0.9333\n",
      "Epoch 59/300\n",
      "134/134 [==============================] - 0s 1ms/sample - loss: 0.0482 - acc: 0.9925 - val_loss: 0.1587 - val_acc: 0.9333\n",
      "Epoch 60/300\n",
      "134/134 [==============================] - 0s 1ms/sample - loss: 0.0451 - acc: 0.9925 - val_loss: 0.1621 - val_acc: 0.9333\n",
      "Epoch 61/300\n",
      "134/134 [==============================] - 0s 1ms/sample - loss: 0.0370 - acc: 1.0000 - val_loss: 0.2173 - val_acc: 0.9333\n",
      "Epoch 62/300\n",
      "134/134 [==============================] - 0s 1ms/sample - loss: 0.0340 - acc: 1.0000 - val_loss: 0.1940 - val_acc: 0.9333\n",
      "Epoch 63/300\n",
      "134/134 [==============================] - 0s 1ms/sample - loss: 0.0290 - acc: 1.0000 - val_loss: 0.1179 - val_acc: 0.9333\n",
      "Epoch 64/300\n",
      "134/134 [==============================] - 0s 1ms/sample - loss: 0.0294 - acc: 1.0000 - val_loss: 0.1472 - val_acc: 0.9333\n",
      "Epoch 65/300\n",
      "134/134 [==============================] - 0s 1ms/sample - loss: 0.0263 - acc: 1.0000 - val_loss: 0.1408 - val_acc: 0.9333\n",
      "Epoch 66/300\n",
      "134/134 [==============================] - 0s 1ms/sample - loss: 0.0247 - acc: 1.0000 - val_loss: 0.2175 - val_acc: 0.9333\n",
      "Epoch 67/300\n",
      "134/134 [==============================] - 0s 1ms/sample - loss: 0.0278 - acc: 0.9925 - val_loss: 0.1745 - val_acc: 0.9333\n",
      "Epoch 68/300\n",
      "134/134 [==============================] - 0s 1ms/sample - loss: 0.0200 - acc: 1.0000 - val_loss: 0.0888 - val_acc: 0.9333\n",
      "Epoch 69/300\n",
      "134/134 [==============================] - 0s 1ms/sample - loss: 0.0177 - acc: 1.0000 - val_loss: 0.1062 - val_acc: 0.9333\n",
      "Epoch 70/300\n",
      "134/134 [==============================] - 0s 1ms/sample - loss: 0.0155 - acc: 1.0000 - val_loss: 0.1078 - val_acc: 0.9333\n",
      "Epoch 71/300\n",
      "134/134 [==============================] - 0s 1ms/sample - loss: 0.0128 - acc: 1.0000 - val_loss: 0.1391 - val_acc: 0.9333\n",
      "Epoch 72/300\n",
      "134/134 [==============================] - 0s 1ms/sample - loss: 0.0117 - acc: 1.0000 - val_loss: 0.1790 - val_acc: 0.9333\n",
      "Epoch 73/300\n",
      "134/134 [==============================] - 0s 1ms/sample - loss: 0.0113 - acc: 1.0000 - val_loss: 0.1530 - val_acc: 0.8667\n",
      "Epoch 74/300\n",
      "134/134 [==============================] - 0s 1ms/sample - loss: 0.0101 - acc: 1.0000 - val_loss: 0.0661 - val_acc: 1.0000\n",
      "Epoch 75/300\n",
      "134/134 [==============================] - 0s 1ms/sample - loss: 0.0086 - acc: 1.0000 - val_loss: 0.0720 - val_acc: 1.0000\n",
      "Epoch 76/300\n",
      "134/134 [==============================] - 0s 1ms/sample - loss: 0.0091 - acc: 1.0000 - val_loss: 0.0580 - val_acc: 1.0000\n",
      "Epoch 77/300\n",
      "134/134 [==============================] - 0s 1ms/sample - loss: 0.0079 - acc: 1.0000 - val_loss: 0.0303 - val_acc: 1.0000\n",
      "Epoch 78/300\n",
      "134/134 [==============================] - 0s 1ms/sample - loss: 0.0068 - acc: 1.0000 - val_loss: 0.0577 - val_acc: 1.0000\n",
      "Epoch 79/300\n",
      "134/134 [==============================] - 0s 1ms/sample - loss: 0.0060 - acc: 1.0000 - val_loss: 0.0710 - val_acc: 1.0000\n",
      "Epoch 80/300\n",
      "134/134 [==============================] - 0s 1ms/sample - loss: 0.0055 - acc: 1.0000 - val_loss: 0.0302 - val_acc: 1.0000\n",
      "Epoch 81/300\n",
      "134/134 [==============================] - 0s 1ms/sample - loss: 0.0053 - acc: 1.0000 - val_loss: 0.0269 - val_acc: 1.0000\n",
      "Epoch 82/300\n",
      "134/134 [==============================] - 0s 1ms/sample - loss: 0.0046 - acc: 1.0000 - val_loss: 0.0580 - val_acc: 1.0000\n",
      "Epoch 83/300\n",
      "134/134 [==============================] - 0s 1ms/sample - loss: 0.0045 - acc: 1.0000 - val_loss: 0.0602 - val_acc: 1.0000\n",
      "Epoch 84/300\n",
      "134/134 [==============================] - 0s 1ms/sample - loss: 0.0039 - acc: 1.0000 - val_loss: 0.0277 - val_acc: 1.0000\n",
      "Epoch 85/300\n",
      "134/134 [==============================] - 0s 1ms/sample - loss: 0.0035 - acc: 1.0000 - val_loss: 0.0280 - val_acc: 1.0000\n",
      "Epoch 86/300\n",
      "134/134 [==============================] - 0s 1ms/sample - loss: 0.0033 - acc: 1.0000 - val_loss: 0.0497 - val_acc: 1.0000\n",
      "Epoch 87/300\n",
      "134/134 [==============================] - 0s 1ms/sample - loss: 0.0027 - acc: 1.0000 - val_loss: 0.0623 - val_acc: 1.0000\n",
      "Epoch 88/300\n",
      "134/134 [==============================] - 0s 1ms/sample - loss: 0.0030 - acc: 1.0000 - val_loss: 0.0482 - val_acc: 1.0000\n",
      "Epoch 89/300\n",
      "134/134 [==============================] - 0s 1ms/sample - loss: 0.0024 - acc: 1.0000 - val_loss: 0.0365 - val_acc: 1.0000\n",
      "Epoch 90/300\n",
      "134/134 [==============================] - 0s 1ms/sample - loss: 0.0024 - acc: 1.0000 - val_loss: 0.0399 - val_acc: 1.0000\n",
      "Epoch 91/300\n",
      "134/134 [==============================] - 0s 1ms/sample - loss: 0.0022 - acc: 1.0000 - val_loss: 0.0689 - val_acc: 1.0000\n",
      "Epoch 92/300\n",
      "134/134 [==============================] - 0s 1ms/sample - loss: 0.0022 - acc: 1.0000 - val_loss: 0.0740 - val_acc: 1.0000\n",
      "Epoch 93/300\n",
      "134/134 [==============================] - 0s 1ms/sample - loss: 0.0020 - acc: 1.0000 - val_loss: 0.0455 - val_acc: 1.0000\n",
      "Epoch 94/300\n",
      "134/134 [==============================] - 0s 1ms/sample - loss: 0.0020 - acc: 1.0000 - val_loss: 0.0430 - val_acc: 1.0000\n",
      "Epoch 95/300\n",
      "134/134 [==============================] - 0s 1ms/sample - loss: 0.0019 - acc: 1.0000 - val_loss: 0.0612 - val_acc: 1.0000\n",
      "Epoch 96/300\n",
      "134/134 [==============================] - 0s 1ms/sample - loss: 0.0016 - acc: 1.0000 - val_loss: 0.1361 - val_acc: 0.9333\n",
      "Epoch 97/300\n",
      "134/134 [==============================] - 0s 1ms/sample - loss: 0.0018 - acc: 1.0000 - val_loss: 0.0839 - val_acc: 1.0000\n",
      "Epoch 98/300\n",
      "134/134 [==============================] - 0s 1ms/sample - loss: 0.0016 - acc: 1.0000 - val_loss: 0.0508 - val_acc: 1.0000\n",
      "Epoch 99/300\n",
      "134/134 [==============================] - 0s 1ms/sample - loss: 0.0015 - acc: 1.0000 - val_loss: 0.0463 - val_acc: 1.0000\n",
      "Epoch 100/300\n",
      "134/134 [==============================] - 0s 1ms/sample - loss: 0.0015 - acc: 1.0000 - val_loss: 0.0599 - val_acc: 1.0000\n",
      "Epoch 101/300\n",
      "134/134 [==============================] - 0s 1ms/sample - loss: 0.0014 - acc: 1.0000 - val_loss: 0.0822 - val_acc: 1.0000\n",
      "Epoch 102/300\n",
      "134/134 [==============================] - 0s 1ms/sample - loss: 0.0013 - acc: 1.0000 - val_loss: 0.1045 - val_acc: 0.9333\n",
      "Epoch 103/300\n",
      "134/134 [==============================] - 0s 1ms/sample - loss: 0.0012 - acc: 1.0000 - val_loss: 0.1081 - val_acc: 0.9333\n",
      "Epoch 104/300\n",
      "134/134 [==============================] - 0s 1ms/sample - loss: 0.0012 - acc: 1.0000 - val_loss: 0.0966 - val_acc: 0.9333\n",
      "Epoch 105/300\n",
      "134/134 [==============================] - 0s 1ms/sample - loss: 0.0011 - acc: 1.0000 - val_loss: 0.0772 - val_acc: 1.0000\n",
      "Epoch 106/300\n",
      "134/134 [==============================] - 0s 1ms/sample - loss: 0.0011 - acc: 1.0000 - val_loss: 0.0709 - val_acc: 1.0000\n",
      "Epoch 107/300\n",
      "134/134 [==============================] - 0s 1ms/sample - loss: 0.0011 - acc: 1.0000 - val_loss: 0.0782 - val_acc: 1.0000\n",
      "Epoch 108/300\n",
      "134/134 [==============================] - 0s 1ms/sample - loss: 0.0010 - acc: 1.0000 - val_loss: 0.0923 - val_acc: 0.9333\n",
      "Epoch 109/300\n",
      "134/134 [==============================] - 0s 1ms/sample - loss: 9.7561e-04 - acc: 1.0000 - val_loss: 0.0856 - val_acc: 1.0000\n",
      "Epoch 110/300\n",
      "134/134 [==============================] - 0s 1ms/sample - loss: 9.4058e-04 - acc: 1.0000 - val_loss: 0.0863 - val_acc: 0.9333\n",
      "Epoch 111/300\n",
      "134/134 [==============================] - 0s 1ms/sample - loss: 9.1563e-04 - acc: 1.0000 - val_loss: 0.0827 - val_acc: 1.0000\n",
      "Epoch 112/300\n",
      "134/134 [==============================] - 0s 1ms/sample - loss: 8.6720e-04 - acc: 1.0000 - val_loss: 0.0714 - val_acc: 1.0000\n",
      "Epoch 113/300\n",
      "134/134 [==============================] - 0s 1ms/sample - loss: 8.4651e-04 - acc: 1.0000 - val_loss: 0.0738 - val_acc: 1.0000\n",
      "Epoch 114/300\n",
      "134/134 [==============================] - 0s 1ms/sample - loss: 8.2740e-04 - acc: 1.0000 - val_loss: 0.0976 - val_acc: 0.9333\n",
      "Epoch 115/300\n",
      "134/134 [==============================] - 0s 1ms/sample - loss: 7.9430e-04 - acc: 1.0000 - val_loss: 0.0720 - val_acc: 1.0000\n",
      "Epoch 116/300\n",
      "134/134 [==============================] - 0s 1ms/sample - loss: 7.6103e-04 - acc: 1.0000 - val_loss: 0.0572 - val_acc: 1.0000\n",
      "Epoch 117/300\n",
      "134/134 [==============================] - 0s 1ms/sample - loss: 7.3837e-04 - acc: 1.0000 - val_loss: 0.0629 - val_acc: 1.0000\n",
      "Epoch 118/300\n",
      "134/134 [==============================] - 0s 1ms/sample - loss: 6.9559e-04 - acc: 1.0000 - val_loss: 0.0676 - val_acc: 1.0000\n",
      "Epoch 119/300\n",
      "134/134 [==============================] - 0s 1ms/sample - loss: 6.8833e-04 - acc: 1.0000 - val_loss: 0.0773 - val_acc: 1.0000\n",
      "Epoch 120/300\n",
      "134/134 [==============================] - 0s 1ms/sample - loss: 6.5405e-04 - acc: 1.0000 - val_loss: 0.0636 - val_acc: 1.0000\n",
      "Epoch 121/300\n",
      "134/134 [==============================] - 0s 1ms/sample - loss: 6.2498e-04 - acc: 1.0000 - val_loss: 0.0523 - val_acc: 1.0000\n",
      "Epoch 122/300\n",
      "134/134 [==============================] - 0s 1ms/sample - loss: 6.3112e-04 - acc: 1.0000 - val_loss: 0.0497 - val_acc: 1.0000\n",
      "Epoch 123/300\n",
      "134/134 [==============================] - 0s 1ms/sample - loss: 5.9163e-04 - acc: 1.0000 - val_loss: 0.0721 - val_acc: 1.0000\n",
      "Epoch 124/300\n",
      "134/134 [==============================] - 0s 1ms/sample - loss: 5.6493e-04 - acc: 1.0000 - val_loss: 0.0898 - val_acc: 0.9333\n",
      "Epoch 125/300\n",
      "134/134 [==============================] - 0s 1ms/sample - loss: 5.9816e-04 - acc: 1.0000 - val_loss: 0.0694 - val_acc: 1.0000\n",
      "Epoch 126/300\n",
      "134/134 [==============================] - 0s 1ms/sample - loss: 5.4748e-04 - acc: 1.0000 - val_loss: 0.0357 - val_acc: 1.0000\n",
      "Epoch 127/300\n",
      "134/134 [==============================] - 0s 1ms/sample - loss: 5.6013e-04 - acc: 1.0000 - val_loss: 0.0333 - val_acc: 1.0000\n",
      "Epoch 128/300\n",
      "134/134 [==============================] - 0s 1ms/sample - loss: 5.3054e-04 - acc: 1.0000 - val_loss: 0.0523 - val_acc: 1.0000\n",
      "Epoch 129/300\n",
      "134/134 [==============================] - 0s 1ms/sample - loss: 4.7471e-04 - acc: 1.0000 - val_loss: 0.0815 - val_acc: 0.9333\n",
      "Epoch 130/300\n",
      "134/134 [==============================] - 0s 1ms/sample - loss: 4.8253e-04 - acc: 1.0000 - val_loss: 0.0805 - val_acc: 0.9333\n",
      "Epoch 131/300\n",
      "134/134 [==============================] - 0s 1ms/sample - loss: 4.5791e-04 - acc: 1.0000 - val_loss: 0.0509 - val_acc: 1.0000\n",
      "Epoch 132/300\n",
      "134/134 [==============================] - 0s 1ms/sample - loss: 4.4755e-04 - acc: 1.0000 - val_loss: 0.0419 - val_acc: 1.0000\n",
      "Epoch 133/300\n",
      "134/134 [==============================] - 0s 1ms/sample - loss: 4.2860e-04 - acc: 1.0000 - val_loss: 0.0544 - val_acc: 1.0000\n",
      "Epoch 134/300\n",
      "134/134 [==============================] - 0s 1ms/sample - loss: 4.1629e-04 - acc: 1.0000 - val_loss: 0.0772 - val_acc: 0.9333\n",
      "Epoch 135/300\n",
      "134/134 [==============================] - 0s 1ms/sample - loss: 4.0364e-04 - acc: 1.0000 - val_loss: 0.0730 - val_acc: 0.9333\n",
      "Epoch 136/300\n",
      "134/134 [==============================] - 0s 1ms/sample - loss: 3.8948e-04 - acc: 1.0000 - val_loss: 0.0608 - val_acc: 1.0000\n",
      "Epoch 137/300\n",
      "134/134 [==============================] - 0s 1ms/sample - loss: 3.7979e-04 - acc: 1.0000 - val_loss: 0.0563 - val_acc: 1.0000\n",
      "Epoch 138/300\n",
      "134/134 [==============================] - 0s 1ms/sample - loss: 3.7091e-04 - acc: 1.0000 - val_loss: 0.0565 - val_acc: 1.0000\n",
      "Epoch 139/300\n",
      "134/134 [==============================] - 0s 1ms/sample - loss: 3.6057e-04 - acc: 1.0000 - val_loss: 0.0661 - val_acc: 1.0000\n",
      "Epoch 140/300\n",
      "134/134 [==============================] - 0s 1ms/sample - loss: 3.4001e-04 - acc: 1.0000 - val_loss: 0.0720 - val_acc: 0.9333\n",
      "Epoch 141/300\n",
      "134/134 [==============================] - 0s 1ms/sample - loss: 3.3622e-04 - acc: 1.0000 - val_loss: 0.0670 - val_acc: 1.0000\n",
      "Epoch 142/300\n",
      "134/134 [==============================] - 0s 1ms/sample - loss: 3.2977e-04 - acc: 1.0000 - val_loss: 0.0560 - val_acc: 1.0000\n",
      "Epoch 143/300\n",
      "134/134 [==============================] - 0s 1ms/sample - loss: 3.2073e-04 - acc: 1.0000 - val_loss: 0.0634 - val_acc: 1.0000\n",
      "Epoch 144/300\n",
      "134/134 [==============================] - 0s 1ms/sample - loss: 3.1327e-04 - acc: 1.0000 - val_loss: 0.0764 - val_acc: 0.9333\n",
      "Epoch 145/300\n",
      "134/134 [==============================] - 0s 1ms/sample - loss: 3.0951e-04 - acc: 1.0000 - val_loss: 0.0682 - val_acc: 1.0000\n",
      "Epoch 146/300\n",
      "134/134 [==============================] - 0s 1ms/sample - loss: 2.9682e-04 - acc: 1.0000 - val_loss: 0.0577 - val_acc: 1.0000\n",
      "Epoch 147/300\n",
      "134/134 [==============================] - 0s 1ms/sample - loss: 2.9326e-04 - acc: 1.0000 - val_loss: 0.0615 - val_acc: 1.0000\n",
      "Epoch 148/300\n",
      "134/134 [==============================] - 0s 1ms/sample - loss: 2.8092e-04 - acc: 1.0000 - val_loss: 0.0762 - val_acc: 0.9333\n",
      "Epoch 149/300\n",
      "134/134 [==============================] - 0s 1ms/sample - loss: 2.7507e-04 - acc: 1.0000 - val_loss: 0.0893 - val_acc: 0.9333\n",
      "Epoch 150/300\n",
      "134/134 [==============================] - 0s 1ms/sample - loss: 2.8246e-04 - acc: 1.0000 - val_loss: 0.0836 - val_acc: 0.9333\n",
      "Epoch 151/300\n",
      "134/134 [==============================] - 0s 1ms/sample - loss: 2.6467e-04 - acc: 1.0000 - val_loss: 0.0697 - val_acc: 0.9333\n",
      "Epoch 152/300\n",
      "134/134 [==============================] - 0s 1ms/sample - loss: 2.5800e-04 - acc: 1.0000 - val_loss: 0.0666 - val_acc: 1.0000\n",
      "Epoch 153/300\n",
      "134/134 [==============================] - 0s 1ms/sample - loss: 2.5712e-04 - acc: 1.0000 - val_loss: 0.0697 - val_acc: 0.9333\n",
      "Epoch 154/300\n",
      "134/134 [==============================] - 0s 1ms/sample - loss: 2.4559e-04 - acc: 1.0000 - val_loss: 0.0818 - val_acc: 0.9333\n",
      "Epoch 155/300\n",
      "134/134 [==============================] - 0s 1ms/sample - loss: 2.4020e-04 - acc: 1.0000 - val_loss: 0.0949 - val_acc: 0.9333\n",
      "Epoch 156/300\n",
      "134/134 [==============================] - 0s 1ms/sample - loss: 2.3714e-04 - acc: 1.0000 - val_loss: 0.0969 - val_acc: 0.9333\n",
      "Epoch 157/300\n",
      "134/134 [==============================] - 0s 1ms/sample - loss: 2.3071e-04 - acc: 1.0000 - val_loss: 0.0883 - val_acc: 0.9333\n",
      "Epoch 158/300\n",
      "134/134 [==============================] - 0s 1ms/sample - loss: 2.2423e-04 - acc: 1.0000 - val_loss: 0.0855 - val_acc: 0.9333\n",
      "Epoch 159/300\n",
      "134/134 [==============================] - 0s 1ms/sample - loss: 2.1986e-04 - acc: 1.0000 - val_loss: 0.0811 - val_acc: 0.9333\n",
      "Epoch 160/300\n",
      "134/134 [==============================] - 0s 1ms/sample - loss: 2.1780e-04 - acc: 1.0000 - val_loss: 0.0807 - val_acc: 0.9333\n",
      "Epoch 161/300\n",
      "134/134 [==============================] - 0s 1ms/sample - loss: 2.1318e-04 - acc: 1.0000 - val_loss: 0.0835 - val_acc: 0.9333\n",
      "Epoch 162/300\n",
      "134/134 [==============================] - 0s 1ms/sample - loss: 2.0757e-04 - acc: 1.0000 - val_loss: 0.0822 - val_acc: 0.9333\n",
      "Epoch 163/300\n",
      "134/134 [==============================] - 0s 1ms/sample - loss: 2.0620e-04 - acc: 1.0000 - val_loss: 0.0925 - val_acc: 0.9333\n",
      "Epoch 164/300\n",
      "134/134 [==============================] - 0s 1ms/sample - loss: 1.9881e-04 - acc: 1.0000 - val_loss: 0.0926 - val_acc: 0.9333\n",
      "Epoch 165/300\n",
      "134/134 [==============================] - 0s 1ms/sample - loss: 1.9522e-04 - acc: 1.0000 - val_loss: 0.0901 - val_acc: 0.9333\n",
      "Epoch 166/300\n",
      "134/134 [==============================] - 0s 1ms/sample - loss: 1.9198e-04 - acc: 1.0000 - val_loss: 0.0883 - val_acc: 0.9333\n",
      "Epoch 167/300\n",
      "134/134 [==============================] - 0s 1ms/sample - loss: 1.8834e-04 - acc: 1.0000 - val_loss: 0.0899 - val_acc: 0.9333\n",
      "Epoch 168/300\n",
      "134/134 [==============================] - 0s 1ms/sample - loss: 1.8533e-04 - acc: 1.0000 - val_loss: 0.0971 - val_acc: 0.9333\n",
      "Epoch 169/300\n",
      "134/134 [==============================] - 0s 1ms/sample - loss: 1.8208e-04 - acc: 1.0000 - val_loss: 0.1090 - val_acc: 0.9333\n",
      "Epoch 170/300\n",
      "134/134 [==============================] - 0s 1ms/sample - loss: 1.7957e-04 - acc: 1.0000 - val_loss: 0.1105 - val_acc: 0.9333\n",
      "Epoch 171/300\n",
      "134/134 [==============================] - 0s 1ms/sample - loss: 1.7719e-04 - acc: 1.0000 - val_loss: 0.1094 - val_acc: 0.9333\n",
      "Epoch 172/300\n",
      "134/134 [==============================] - 0s 1ms/sample - loss: 1.7392e-04 - acc: 1.0000 - val_loss: 0.1030 - val_acc: 0.9333\n",
      "Epoch 173/300\n",
      "134/134 [==============================] - 0s 1ms/sample - loss: 1.7234e-04 - acc: 1.0000 - val_loss: 0.0980 - val_acc: 0.9333\n",
      "Epoch 174/300\n",
      "134/134 [==============================] - 0s 1ms/sample - loss: 1.6959e-04 - acc: 1.0000 - val_loss: 0.1101 - val_acc: 0.9333\n",
      "Epoch 175/300\n",
      "134/134 [==============================] - 0s 1ms/sample - loss: 1.6441e-04 - acc: 1.0000 - val_loss: 0.1134 - val_acc: 0.9333\n",
      "Epoch 176/300\n",
      "134/134 [==============================] - 0s 1ms/sample - loss: 1.6238e-04 - acc: 1.0000 - val_loss: 0.1138 - val_acc: 0.9333\n",
      "Epoch 177/300\n",
      "134/134 [==============================] - 0s 1ms/sample - loss: 1.6100e-04 - acc: 1.0000 - val_loss: 0.1193 - val_acc: 0.9333\n",
      "Epoch 178/300\n",
      "134/134 [==============================] - 0s 1ms/sample - loss: 1.5759e-04 - acc: 1.0000 - val_loss: 0.1200 - val_acc: 0.9333\n",
      "Epoch 179/300\n",
      "134/134 [==============================] - 0s 1ms/sample - loss: 1.5450e-04 - acc: 1.0000 - val_loss: 0.1174 - val_acc: 0.9333\n",
      "Epoch 180/300\n",
      "134/134 [==============================] - 0s 1ms/sample - loss: 1.5233e-04 - acc: 1.0000 - val_loss: 0.1180 - val_acc: 0.9333\n",
      "Epoch 181/300\n",
      "134/134 [==============================] - 0s 1ms/sample - loss: 1.4967e-04 - acc: 1.0000 - val_loss: 0.1214 - val_acc: 0.9333\n",
      "Epoch 182/300\n",
      "134/134 [==============================] - 0s 1ms/sample - loss: 1.4690e-04 - acc: 1.0000 - val_loss: 0.1320 - val_acc: 0.9333\n",
      "Epoch 183/300\n",
      "134/134 [==============================] - 0s 1ms/sample - loss: 1.4604e-04 - acc: 1.0000 - val_loss: 0.1355 - val_acc: 0.9333\n",
      "Epoch 184/300\n",
      "134/134 [==============================] - 0s 1ms/sample - loss: 1.4273e-04 - acc: 1.0000 - val_loss: 0.1381 - val_acc: 0.9333\n",
      "Epoch 185/300\n",
      "134/134 [==============================] - 0s 1ms/sample - loss: 1.3967e-04 - acc: 1.0000 - val_loss: 0.1240 - val_acc: 0.9333\n",
      "Epoch 186/300\n",
      "134/134 [==============================] - 0s 1ms/sample - loss: 1.3746e-04 - acc: 1.0000 - val_loss: 0.1130 - val_acc: 0.9333\n",
      "Epoch 187/300\n",
      "134/134 [==============================] - 0s 1ms/sample - loss: 1.3489e-04 - acc: 1.0000 - val_loss: 0.1170 - val_acc: 0.9333\n",
      "Epoch 188/300\n",
      "134/134 [==============================] - 0s 1ms/sample - loss: 1.3272e-04 - acc: 1.0000 - val_loss: 0.1258 - val_acc: 0.9333\n",
      "Epoch 189/300\n",
      "134/134 [==============================] - 0s 1ms/sample - loss: 1.3013e-04 - acc: 1.0000 - val_loss: 0.1404 - val_acc: 0.9333\n",
      "Epoch 190/300\n",
      "134/134 [==============================] - 0s 1ms/sample - loss: 1.2881e-04 - acc: 1.0000 - val_loss: 0.1459 - val_acc: 0.9333\n",
      "Epoch 191/300\n",
      "134/134 [==============================] - 0s 1ms/sample - loss: 1.2697e-04 - acc: 1.0000 - val_loss: 0.1386 - val_acc: 0.9333\n",
      "Epoch 192/300\n",
      "134/134 [==============================] - 0s 1ms/sample - loss: 1.2480e-04 - acc: 1.0000 - val_loss: 0.1310 - val_acc: 0.9333\n",
      "Epoch 193/300\n",
      "134/134 [==============================] - 0s 1ms/sample - loss: 1.2180e-04 - acc: 1.0000 - val_loss: 0.1248 - val_acc: 0.9333\n",
      "Epoch 194/300\n",
      "134/134 [==============================] - 0s 1ms/sample - loss: 1.1968e-04 - acc: 1.0000 - val_loss: 0.1265 - val_acc: 0.9333\n",
      "Epoch 195/300\n",
      "134/134 [==============================] - 0s 1ms/sample - loss: 1.1768e-04 - acc: 1.0000 - val_loss: 0.1340 - val_acc: 0.9333\n",
      "Epoch 196/300\n",
      "134/134 [==============================] - 0s 1ms/sample - loss: 1.1572e-04 - acc: 1.0000 - val_loss: 0.1361 - val_acc: 0.9333\n",
      "Epoch 197/300\n",
      "134/134 [==============================] - 0s 1ms/sample - loss: 1.1303e-04 - acc: 1.0000 - val_loss: 0.1267 - val_acc: 0.9333\n",
      "Epoch 198/300\n",
      "134/134 [==============================] - 0s 1ms/sample - loss: 1.1106e-04 - acc: 1.0000 - val_loss: 0.1262 - val_acc: 0.9333\n",
      "Epoch 199/300\n",
      "134/134 [==============================] - 0s 1ms/sample - loss: 1.0954e-04 - acc: 1.0000 - val_loss: 0.1280 - val_acc: 0.9333\n",
      "Epoch 200/300\n",
      "134/134 [==============================] - 0s 1ms/sample - loss: 1.0736e-04 - acc: 1.0000 - val_loss: 0.1352 - val_acc: 0.9333\n",
      "Epoch 201/300\n",
      "134/134 [==============================] - 0s 1ms/sample - loss: 1.0568e-04 - acc: 1.0000 - val_loss: 0.1425 - val_acc: 0.9333\n",
      "Epoch 202/300\n",
      "134/134 [==============================] - 0s 1ms/sample - loss: 1.0416e-04 - acc: 1.0000 - val_loss: 0.1453 - val_acc: 0.9333\n",
      "Epoch 203/300\n",
      "134/134 [==============================] - 0s 1ms/sample - loss: 1.0270e-04 - acc: 1.0000 - val_loss: 0.1406 - val_acc: 0.9333\n",
      "Epoch 204/300\n",
      "134/134 [==============================] - 0s 1ms/sample - loss: 1.0061e-04 - acc: 1.0000 - val_loss: 0.1377 - val_acc: 0.9333\n",
      "Epoch 205/300\n",
      "134/134 [==============================] - 0s 1ms/sample - loss: 9.8930e-05 - acc: 1.0000 - val_loss: 0.1310 - val_acc: 0.9333\n",
      "Epoch 206/300\n",
      "134/134 [==============================] - 0s 1ms/sample - loss: 9.7341e-05 - acc: 1.0000 - val_loss: 0.1305 - val_acc: 0.9333\n",
      "Epoch 207/300\n",
      "134/134 [==============================] - 0s 1ms/sample - loss: 9.6113e-05 - acc: 1.0000 - val_loss: 0.1311 - val_acc: 0.9333\n",
      "Epoch 208/300\n",
      "134/134 [==============================] - 0s 1ms/sample - loss: 9.4394e-05 - acc: 1.0000 - val_loss: 0.1284 - val_acc: 0.9333\n",
      "Epoch 209/300\n",
      "134/134 [==============================] - 0s 1ms/sample - loss: 9.3060e-05 - acc: 1.0000 - val_loss: 0.1280 - val_acc: 0.9333\n",
      "Epoch 210/300\n",
      "134/134 [==============================] - 0s 1ms/sample - loss: 9.1821e-05 - acc: 1.0000 - val_loss: 0.1356 - val_acc: 0.9333\n",
      "Epoch 211/300\n",
      "134/134 [==============================] - 0s 1ms/sample - loss: 9.0322e-05 - acc: 1.0000 - val_loss: 0.1348 - val_acc: 0.9333\n",
      "Epoch 212/300\n",
      "134/134 [==============================] - 0s 1ms/sample - loss: 8.8966e-05 - acc: 1.0000 - val_loss: 0.1344 - val_acc: 0.9333\n",
      "Epoch 213/300\n",
      "134/134 [==============================] - 0s 1ms/sample - loss: 8.7957e-05 - acc: 1.0000 - val_loss: 0.1330 - val_acc: 0.9333\n",
      "Epoch 214/300\n",
      "134/134 [==============================] - 0s 1ms/sample - loss: 8.6180e-05 - acc: 1.0000 - val_loss: 0.1341 - val_acc: 0.9333\n",
      "Epoch 215/300\n",
      "134/134 [==============================] - 0s 1ms/sample - loss: 8.5397e-05 - acc: 1.0000 - val_loss: 0.1301 - val_acc: 0.9333\n",
      "Epoch 216/300\n",
      "134/134 [==============================] - 0s 1ms/sample - loss: 8.3868e-05 - acc: 1.0000 - val_loss: 0.1298 - val_acc: 0.9333\n",
      "Epoch 217/300\n",
      "134/134 [==============================] - 0s 1ms/sample - loss: 8.2567e-05 - acc: 1.0000 - val_loss: 0.1222 - val_acc: 0.9333\n",
      "Epoch 218/300\n",
      "134/134 [==============================] - 0s 1ms/sample - loss: 8.1583e-05 - acc: 1.0000 - val_loss: 0.1125 - val_acc: 0.9333\n",
      "Epoch 219/300\n",
      "134/134 [==============================] - 0s 1ms/sample - loss: 8.0622e-05 - acc: 1.0000 - val_loss: 0.1110 - val_acc: 0.9333\n",
      "Epoch 220/300\n",
      "134/134 [==============================] - 0s 1ms/sample - loss: 7.9485e-05 - acc: 1.0000 - val_loss: 0.1172 - val_acc: 0.9333\n",
      "Epoch 221/300\n",
      "134/134 [==============================] - 0s 1ms/sample - loss: 7.8186e-05 - acc: 1.0000 - val_loss: 0.1255 - val_acc: 0.9333\n",
      "Epoch 222/300\n",
      "134/134 [==============================] - 0s 1ms/sample - loss: 7.7616e-05 - acc: 1.0000 - val_loss: 0.1242 - val_acc: 0.9333\n",
      "Epoch 223/300\n",
      "134/134 [==============================] - 0s 1ms/sample - loss: 7.6216e-05 - acc: 1.0000 - val_loss: 0.1121 - val_acc: 0.9333\n",
      "Epoch 224/300\n",
      "134/134 [==============================] - 0s 1ms/sample - loss: 7.5128e-05 - acc: 1.0000 - val_loss: 0.1082 - val_acc: 0.9333\n",
      "Epoch 225/300\n",
      "134/134 [==============================] - 0s 1ms/sample - loss: 7.4161e-05 - acc: 1.0000 - val_loss: 0.1075 - val_acc: 0.9333\n",
      "Epoch 226/300\n",
      "134/134 [==============================] - 0s 1ms/sample - loss: 7.2944e-05 - acc: 1.0000 - val_loss: 0.1109 - val_acc: 0.9333\n",
      "Epoch 227/300\n",
      "134/134 [==============================] - 0s 1ms/sample - loss: 7.2760e-05 - acc: 1.0000 - val_loss: 0.1152 - val_acc: 0.9333\n",
      "Epoch 228/300\n",
      "134/134 [==============================] - 0s 1ms/sample - loss: 7.0903e-05 - acc: 1.0000 - val_loss: 0.1033 - val_acc: 0.9333\n",
      "Epoch 229/300\n",
      "134/134 [==============================] - 0s 1ms/sample - loss: 6.9496e-05 - acc: 1.0000 - val_loss: 0.0906 - val_acc: 0.9333\n",
      "Epoch 230/300\n",
      "134/134 [==============================] - 0s 1ms/sample - loss: 6.9721e-05 - acc: 1.0000 - val_loss: 0.0874 - val_acc: 0.9333\n",
      "Epoch 231/300\n",
      "134/134 [==============================] - 0s 1ms/sample - loss: 6.8361e-05 - acc: 1.0000 - val_loss: 0.0979 - val_acc: 0.9333\n",
      "Epoch 232/300\n",
      "134/134 [==============================] - 0s 1ms/sample - loss: 6.6805e-05 - acc: 1.0000 - val_loss: 0.1045 - val_acc: 0.9333\n",
      "Epoch 233/300\n",
      "134/134 [==============================] - 0s 1ms/sample - loss: 6.5989e-05 - acc: 1.0000 - val_loss: 0.0991 - val_acc: 0.9333\n",
      "Epoch 234/300\n",
      "134/134 [==============================] - 0s 1ms/sample - loss: 6.4805e-05 - acc: 1.0000 - val_loss: 0.0914 - val_acc: 0.9333\n",
      "Epoch 235/300\n",
      "134/134 [==============================] - 0s 1ms/sample - loss: 6.4638e-05 - acc: 1.0000 - val_loss: 0.0872 - val_acc: 0.9333\n",
      "Epoch 236/300\n",
      "134/134 [==============================] - 0s 1ms/sample - loss: 6.3422e-05 - acc: 1.0000 - val_loss: 0.0933 - val_acc: 0.9333\n",
      "Epoch 237/300\n",
      "134/134 [==============================] - 0s 1ms/sample - loss: 6.2353e-05 - acc: 1.0000 - val_loss: 0.0959 - val_acc: 0.9333\n",
      "Epoch 238/300\n",
      "134/134 [==============================] - 0s 1ms/sample - loss: 6.1672e-05 - acc: 1.0000 - val_loss: 0.0932 - val_acc: 0.9333\n",
      "Epoch 239/300\n",
      "134/134 [==============================] - 0s 1ms/sample - loss: 6.0601e-05 - acc: 1.0000 - val_loss: 0.0885 - val_acc: 0.9333\n",
      "Epoch 240/300\n",
      "134/134 [==============================] - 0s 1ms/sample - loss: 5.9824e-05 - acc: 1.0000 - val_loss: 0.0838 - val_acc: 0.9333\n",
      "Epoch 241/300\n",
      "134/134 [==============================] - 0s 1ms/sample - loss: 5.9711e-05 - acc: 1.0000 - val_loss: 0.0795 - val_acc: 0.9333\n",
      "Epoch 242/300\n",
      "134/134 [==============================] - 0s 1ms/sample - loss: 5.8775e-05 - acc: 1.0000 - val_loss: 0.0841 - val_acc: 0.9333\n",
      "Epoch 243/300\n",
      "134/134 [==============================] - 0s 1ms/sample - loss: 5.7517e-05 - acc: 1.0000 - val_loss: 0.0860 - val_acc: 0.9333\n",
      "Epoch 244/300\n",
      "134/134 [==============================] - 0s 1ms/sample - loss: 5.6760e-05 - acc: 1.0000 - val_loss: 0.0867 - val_acc: 0.9333\n",
      "Epoch 245/300\n",
      "134/134 [==============================] - 0s 1ms/sample - loss: 5.6287e-05 - acc: 1.0000 - val_loss: 0.0902 - val_acc: 0.9333\n",
      "Epoch 246/300\n",
      "134/134 [==============================] - 0s 1ms/sample - loss: 5.5363e-05 - acc: 1.0000 - val_loss: 0.0838 - val_acc: 0.9333\n",
      "Epoch 247/300\n",
      "134/134 [==============================] - 0s 1ms/sample - loss: 5.4365e-05 - acc: 1.0000 - val_loss: 0.0779 - val_acc: 0.9333\n",
      "Epoch 248/300\n",
      "134/134 [==============================] - 0s 1ms/sample - loss: 5.3909e-05 - acc: 1.0000 - val_loss: 0.0749 - val_acc: 0.9333\n",
      "Epoch 249/300\n",
      "134/134 [==============================] - 0s 1ms/sample - loss: 5.3267e-05 - acc: 1.0000 - val_loss: 0.0731 - val_acc: 0.9333\n",
      "Epoch 250/300\n",
      "134/134 [==============================] - 0s 1ms/sample - loss: 5.2484e-05 - acc: 1.0000 - val_loss: 0.0726 - val_acc: 0.9333\n",
      "Epoch 251/300\n",
      "134/134 [==============================] - 0s 1ms/sample - loss: 5.1743e-05 - acc: 1.0000 - val_loss: 0.0707 - val_acc: 0.9333\n",
      "Epoch 252/300\n",
      "134/134 [==============================] - 0s 1ms/sample - loss: 5.1013e-05 - acc: 1.0000 - val_loss: 0.0710 - val_acc: 0.9333\n",
      "Epoch 253/300\n",
      "134/134 [==============================] - 0s 1ms/sample - loss: 5.0788e-05 - acc: 1.0000 - val_loss: 0.0726 - val_acc: 0.9333\n",
      "Epoch 254/300\n",
      "134/134 [==============================] - 0s 1ms/sample - loss: 4.9903e-05 - acc: 1.0000 - val_loss: 0.0680 - val_acc: 0.9333\n",
      "Epoch 255/300\n",
      "134/134 [==============================] - 0s 1ms/sample - loss: 4.9234e-05 - acc: 1.0000 - val_loss: 0.0626 - val_acc: 1.0000\n",
      "Epoch 256/300\n",
      "134/134 [==============================] - 0s 1ms/sample - loss: 4.9038e-05 - acc: 1.0000 - val_loss: 0.0631 - val_acc: 1.0000\n",
      "Epoch 257/300\n",
      "134/134 [==============================] - 0s 1ms/sample - loss: 4.8178e-05 - acc: 1.0000 - val_loss: 0.0700 - val_acc: 0.9333\n",
      "Epoch 258/300\n",
      "134/134 [==============================] - 0s 1ms/sample - loss: 4.7305e-05 - acc: 1.0000 - val_loss: 0.0726 - val_acc: 0.9333\n",
      "Epoch 259/300\n",
      "134/134 [==============================] - 0s 1ms/sample - loss: 4.7218e-05 - acc: 1.0000 - val_loss: 0.0691 - val_acc: 0.9333\n",
      "Epoch 260/300\n",
      "134/134 [==============================] - 0s 1ms/sample - loss: 4.6195e-05 - acc: 1.0000 - val_loss: 0.0593 - val_acc: 1.0000\n",
      "Epoch 261/300\n",
      "134/134 [==============================] - 0s 1ms/sample - loss: 4.5804e-05 - acc: 1.0000 - val_loss: 0.0548 - val_acc: 1.0000\n",
      "Epoch 262/300\n",
      "134/134 [==============================] - 0s 1ms/sample - loss: 4.5234e-05 - acc: 1.0000 - val_loss: 0.0568 - val_acc: 1.0000\n",
      "Epoch 263/300\n",
      "134/134 [==============================] - 0s 1ms/sample - loss: 4.4386e-05 - acc: 1.0000 - val_loss: 0.0622 - val_acc: 1.0000\n",
      "Epoch 264/300\n",
      "134/134 [==============================] - 0s 1ms/sample - loss: 4.3670e-05 - acc: 1.0000 - val_loss: 0.0684 - val_acc: 1.0000\n",
      "Epoch 265/300\n",
      "134/134 [==============================] - 0s 1ms/sample - loss: 4.3749e-05 - acc: 1.0000 - val_loss: 0.0700 - val_acc: 0.9333\n",
      "Epoch 266/300\n",
      "134/134 [==============================] - 0s 1ms/sample - loss: 4.2817e-05 - acc: 1.0000 - val_loss: 0.0613 - val_acc: 1.0000\n",
      "Epoch 267/300\n",
      "134/134 [==============================] - 0s 1ms/sample - loss: 4.2090e-05 - acc: 1.0000 - val_loss: 0.0554 - val_acc: 1.0000\n",
      "Epoch 268/300\n",
      "134/134 [==============================] - 0s 1ms/sample - loss: 4.2265e-05 - acc: 1.0000 - val_loss: 0.0544 - val_acc: 1.0000\n",
      "Epoch 269/300\n",
      "134/134 [==============================] - 0s 1ms/sample - loss: 4.1581e-05 - acc: 1.0000 - val_loss: 0.0600 - val_acc: 1.0000\n",
      "Epoch 270/300\n",
      "134/134 [==============================] - 0s 1ms/sample - loss: 4.0680e-05 - acc: 1.0000 - val_loss: 0.0658 - val_acc: 1.0000\n",
      "Epoch 271/300\n",
      "134/134 [==============================] - 0s 1ms/sample - loss: 4.0604e-05 - acc: 1.0000 - val_loss: 0.0672 - val_acc: 1.0000\n",
      "Epoch 272/300\n",
      "134/134 [==============================] - 0s 1ms/sample - loss: 3.9781e-05 - acc: 1.0000 - val_loss: 0.0609 - val_acc: 1.0000\n",
      "Epoch 273/300\n",
      "134/134 [==============================] - 0s 1ms/sample - loss: 3.9214e-05 - acc: 1.0000 - val_loss: 0.0551 - val_acc: 1.0000\n",
      "Epoch 274/300\n",
      "134/134 [==============================] - 0s 1ms/sample - loss: 3.8964e-05 - acc: 1.0000 - val_loss: 0.0528 - val_acc: 1.0000\n",
      "Epoch 275/300\n",
      "134/134 [==============================] - 0s 1ms/sample - loss: 3.8660e-05 - acc: 1.0000 - val_loss: 0.0547 - val_acc: 1.0000\n",
      "Epoch 276/300\n",
      "134/134 [==============================] - 0s 1ms/sample - loss: 3.8319e-05 - acc: 1.0000 - val_loss: 0.0599 - val_acc: 1.0000\n",
      "Epoch 277/300\n",
      "134/134 [==============================] - 0s 1ms/sample - loss: 3.7406e-05 - acc: 1.0000 - val_loss: 0.0624 - val_acc: 1.0000\n",
      "Epoch 278/300\n",
      "134/134 [==============================] - 0s 1ms/sample - loss: 3.7116e-05 - acc: 1.0000 - val_loss: 0.0630 - val_acc: 1.0000\n",
      "Epoch 279/300\n",
      "134/134 [==============================] - 0s 1ms/sample - loss: 3.6762e-05 - acc: 1.0000 - val_loss: 0.0599 - val_acc: 1.0000\n",
      "Epoch 280/300\n",
      "134/134 [==============================] - 0s 1ms/sample - loss: 3.6308e-05 - acc: 1.0000 - val_loss: 0.0564 - val_acc: 1.0000\n",
      "Epoch 281/300\n",
      "134/134 [==============================] - 0s 1ms/sample - loss: 3.5923e-05 - acc: 1.0000 - val_loss: 0.0549 - val_acc: 1.0000\n",
      "Epoch 282/300\n",
      "134/134 [==============================] - 0s 1ms/sample - loss: 3.5537e-05 - acc: 1.0000 - val_loss: 0.0565 - val_acc: 1.0000\n",
      "Epoch 283/300\n",
      "134/134 [==============================] - 0s 1ms/sample - loss: 3.4996e-05 - acc: 1.0000 - val_loss: 0.0581 - val_acc: 1.0000\n",
      "Epoch 284/300\n",
      "134/134 [==============================] - 0s 1ms/sample - loss: 3.4658e-05 - acc: 1.0000 - val_loss: 0.0593 - val_acc: 1.0000\n",
      "Epoch 285/300\n",
      "134/134 [==============================] - 0s 1ms/sample - loss: 3.4273e-05 - acc: 1.0000 - val_loss: 0.0614 - val_acc: 1.0000\n",
      "Epoch 286/300\n",
      "134/134 [==============================] - 0s 1ms/sample - loss: 3.4541e-05 - acc: 1.0000 - val_loss: 0.0616 - val_acc: 1.0000\n",
      "Epoch 287/300\n",
      "134/134 [==============================] - 0s 1ms/sample - loss: 3.3402e-05 - acc: 1.0000 - val_loss: 0.0540 - val_acc: 1.0000\n",
      "Epoch 288/300\n",
      "134/134 [==============================] - 0s 1ms/sample - loss: 3.3606e-05 - acc: 1.0000 - val_loss: 0.0495 - val_acc: 1.0000\n",
      "Epoch 289/300\n",
      "134/134 [==============================] - 0s 1ms/sample - loss: 3.3230e-05 - acc: 1.0000 - val_loss: 0.0513 - val_acc: 1.0000\n",
      "Epoch 290/300\n",
      "134/134 [==============================] - 0s 1ms/sample - loss: 3.2580e-05 - acc: 1.0000 - val_loss: 0.0565 - val_acc: 1.0000\n",
      "Epoch 291/300\n",
      "134/134 [==============================] - 0s 1ms/sample - loss: 3.1809e-05 - acc: 1.0000 - val_loss: 0.0649 - val_acc: 1.0000\n",
      "Epoch 292/300\n",
      "134/134 [==============================] - 0s 1ms/sample - loss: 3.2299e-05 - acc: 1.0000 - val_loss: 0.0698 - val_acc: 1.0000\n",
      "Epoch 293/300\n",
      "134/134 [==============================] - 0s 1ms/sample - loss: 3.2171e-05 - acc: 1.0000 - val_loss: 0.0648 - val_acc: 1.0000\n",
      "Epoch 294/300\n",
      "134/134 [==============================] - 0s 1ms/sample - loss: 3.1119e-05 - acc: 1.0000 - val_loss: 0.0571 - val_acc: 1.0000\n",
      "Epoch 295/300\n",
      "134/134 [==============================] - 0s 1ms/sample - loss: 3.0958e-05 - acc: 1.0000 - val_loss: 0.0531 - val_acc: 1.0000\n",
      "Epoch 296/300\n",
      "134/134 [==============================] - 0s 1ms/sample - loss: 3.0886e-05 - acc: 1.0000 - val_loss: 0.0545 - val_acc: 1.0000\n",
      "Epoch 297/300\n",
      "134/134 [==============================] - 0s 1ms/sample - loss: 3.0401e-05 - acc: 1.0000 - val_loss: 0.0606 - val_acc: 1.0000\n",
      "Epoch 298/300\n",
      "134/134 [==============================] - 0s 1ms/sample - loss: 2.9629e-05 - acc: 1.0000 - val_loss: 0.0660 - val_acc: 1.0000\n",
      "Epoch 299/300\n",
      "134/134 [==============================] - 0s 1ms/sample - loss: 2.9308e-05 - acc: 1.0000 - val_loss: 0.0697 - val_acc: 1.0000\n",
      "Epoch 300/300\n",
      "134/134 [==============================] - 0s 1ms/sample - loss: 2.9089e-05 - acc: 1.0000 - val_loss: 0.0695 - val_acc: 1.0000\n"
     ]
    }
   ],
   "source": [
    "model= Sequential()\n",
    "\n",
    "model.add(Conv2D(100,(1,1), input_shape=X.shape[1:]))\n",
    "model.add(Activation(\"relu\"))\n",
    "model.add(MaxPooling2D(pool_size=(2,2)))\n",
    "model.add(Conv2D(80,(2,2)))\n",
    "model.add(Activation(\"relu\"))\n",
    "model.add(MaxPooling2D(pool_size=(2,2)))\n",
    "\n",
    "model.add(Conv2D(64,(3,3)))\n",
    "model.add(Activation(\"relu\"))\n",
    "model.add(Conv2D(32,(3,3)))\n",
    "model.add(Activation(\"relu\"))\n",
    "model.add(Conv2D(16,(3,3)))\n",
    "model.add(Activation(\"relu\"))\n",
    "model.add(MaxPooling2D(pool_size=(2,2)))\n",
    "model.add(Conv2D(16,(3,3)))\n",
    "model.add(Activation(\"relu\"))\n",
    "model.add(MaxPooling2D(pool_size=(2,2)))\n",
    "\n",
    "model.add(Flatten())\n",
    "model.add(Dense(64))\n",
    "model.add(Activation(\"relu\"))\n",
    "model.add(Dense(16))\n",
    "model.add(Activation(\"relu\"))\n",
    "model.add(Dense(3))\n",
    "model.add(Activation('softmax'))\n",
    "model.compile(loss='categorical_crossentropy', optimizer='adam', metrics=['accuracy'])\n",
    "model_hist=model.fit(X_train,y_train,batch_size=80, validation_split=0.1, epochs=300)"
   ]
  },
  {
   "cell_type": "markdown",
   "metadata": {},
   "source": [
    "## Evaluation"
   ]
  },
  {
   "cell_type": "markdown",
   "metadata": {},
   "source": [
    "### Accuracies"
   ]
  },
  {
   "cell_type": "markdown",
   "metadata": {},
   "source": [
    "#### On Test Data"
   ]
  },
  {
   "cell_type": "code",
   "execution_count": 225,
   "metadata": {},
   "outputs": [
    {
     "name": "stdout",
     "output_type": "stream",
     "text": [
      "150/150 [==============================] - 0s 478us/sample - loss: 0.1868 - acc: 0.9600\n"
     ]
    },
    {
     "data": {
      "text/plain": [
       "[0.18681674520174663, 0.96]"
      ]
     },
     "execution_count": 225,
     "metadata": {},
     "output_type": "execute_result"
    }
   ],
   "source": [
    "model.evaluate(X_test,y_test)"
   ]
  },
  {
   "cell_type": "markdown",
   "metadata": {},
   "source": [
    "#### On Training Data"
   ]
  },
  {
   "cell_type": "code",
   "execution_count": 226,
   "metadata": {},
   "outputs": [
    {
     "name": "stdout",
     "output_type": "stream",
     "text": [
      "149/149 [==============================] - 0s 489us/sample - loss: 0.0070 - acc: 1.0000\n"
     ]
    },
    {
     "data": {
      "text/plain": [
       "[0.007018602614122249, 1.0]"
      ]
     },
     "execution_count": 226,
     "metadata": {},
     "output_type": "execute_result"
    }
   ],
   "source": [
    "model.evaluate(X_train,y_train)"
   ]
  },
  {
   "cell_type": "markdown",
   "metadata": {},
   "source": [
    "### Checking Dataset Balancing"
   ]
  },
  {
   "cell_type": "code",
   "execution_count": 227,
   "metadata": {},
   "outputs": [
    {
     "data": {
      "text/plain": [
       "{'2': 42, '1': 57, '0': 51}"
      ]
     },
     "execution_count": 227,
     "metadata": {},
     "output_type": "execute_result"
    }
   ],
   "source": [
    "hm=dict()\n",
    "for el in np.argmax(y_test, axis=1):\n",
    "    el=str(el)\n",
    "    if el not in hm:\n",
    "        hm[el]=1\n",
    "    else:\n",
    "        hm[el]=hm[el]+1\n",
    "hm"
   ]
  },
  {
   "cell_type": "markdown",
   "metadata": {},
   "source": [
    "### Important Performance Metrics"
   ]
  },
  {
   "cell_type": "markdown",
   "metadata": {},
   "source": [
    "#### On Test Data"
   ]
  },
  {
   "cell_type": "code",
   "execution_count": 268,
   "metadata": {},
   "outputs": [
    {
     "name": "stdout",
     "output_type": "stream",
     "text": [
      "Classification Report\n",
      "              precision    recall  f1-score   support\n",
      "\n",
      "           0       0.91      0.98      0.94        51\n",
      "           1       0.98      0.91      0.95        57\n",
      "           2       1.00      1.00      1.00        42\n",
      "\n",
      "   micro avg       0.96      0.96      0.96       150\n",
      "   macro avg       0.96      0.96      0.96       150\n",
      "weighted avg       0.96      0.96      0.96       150\n",
      "\n"
     ]
    },
    {
     "data": {
      "image/png": "[encoded data removed]",
      "text/plain": [
       "<Figure size 432x288 with 2 Axes>"
      ]
     },
     "metadata": {
      "needs_background": "light"
     },
     "output_type": "display_data"
    },
    {
     "data": {
      "image/png": "[encoded data removed]",
      "text/plain": [
       "<Figure size 1440x360 with 1 Axes>"
      ]
     },
     "metadata": {
      "needs_background": "light"
     },
     "output_type": "display_data"
    },
    {
     "data": {
      "image/png": "[encoded data removed]",
      "text/plain": [
       "<Figure size 1440x360 with 1 Axes>"
      ]
     },
     "metadata": {
      "needs_background": "light"
     },
     "output_type": "display_data"
    }
   ],
   "source": [
    "y_prob=model.predict(X_test)\n",
    "y_pred=np.argmax(y_prob, axis=1)\n",
    "print(y_pred,'\\n',np.argmax(y_test, axis=1))\n",
    "print(\"Classification Report\")\n",
    "print(classification_report(np.argmax(y_test, axis=1),y_pred))\n",
    "plt.figure()\n",
    "plt.title(\"Confusion Matrix\")\n",
    "sns.heatmap(confusion_matrix(np.argmax(y_test, axis=1),y_pred), annot=True)\n",
    "plt.xticks((range(3)), ['                       Normal', '                          Pneumonia', '                           Covid-19'])\n",
    "plt.yticks((range(3)), ['Normal      ', 'Pneumonia    ', 'Covid-19      '])\n",
    "\n",
    "plt.show()\n",
    "plot_history(model_hist)"
   ]
  },
  {
   "cell_type": "markdown",
   "metadata": {},
   "source": [
    "#### On Training Data"
   ]
  },
  {
   "cell_type": "code",
   "execution_count": 270,
   "metadata": {},
   "outputs": [
    {
     "name": "stdout",
     "output_type": "stream",
     "text": [
      "[2 2 2 2 2 0 1 0 2 1 0 0 0 1 2 2 1 0 0 2 2 0 0 2 1 0 2 1 1 0 2 2 0 2 2 1 0\n",
      " 0 0 1 2 1 2 0 2 2 0 2 0 1 0 1 1 2 2 1 0 1 1 2 0 0 2 0 0 2 1 0 1 2 2 1 0 2\n",
      " 1 0 2 2 0 2 2 2 1 0 0 0 2 2 2 1 1 0 2 1 1 2 2 0 1 0 1 0 1 1 0 1 0 2 0 0 0\n",
      " 2 0 0 1 2 1 2 2 0 0 1 1 2 1 1 0 0 2 2 0 1 2 1 2 1 1 1 0 0 2 1 2 0 1 0 1 2\n",
      " 1] \n",
      " [2 2 2 2 2 0 1 0 2 1 0 0 0 1 2 2 1 0 0 2 2 0 0 2 1 0 2 1 1 0 2 2 0 2 2 1 0\n",
      " 0 0 1 2 1 2 0 2 2 0 2 0 1 0 1 1 2 2 1 0 1 1 2 0 0 2 0 0 2 1 0 1 2 2 1 0 2\n",
      " 1 0 2 2 0 2 2 2 1 0 0 0 2 2 2 1 1 0 2 1 1 2 2 0 1 0 1 0 1 1 0 1 0 2 0 0 0\n",
      " 2 0 0 1 2 1 2 2 0 0 1 1 2 1 1 0 0 2 2 0 1 2 1 2 1 1 1 0 0 2 1 2 0 1 0 1 2\n",
      " 1]\n",
      "Classification Report\n",
      "              precision    recall  f1-score   support\n",
      "\n",
      "           0       1.00      1.00      1.00        51\n",
      "           1       1.00      1.00      1.00        45\n",
      "           2       1.00      1.00      1.00        53\n",
      "\n",
      "   micro avg       1.00      1.00      1.00       149\n",
      "   macro avg       1.00      1.00      1.00       149\n",
      "weighted avg       1.00      1.00      1.00       149\n",
      "\n"
     ]
    },
    {
     "data": {
      "image/png": "[encoded data removed]",
      "text/plain": [
       "<Figure size 432x288 with 2 Axes>"
      ]
     },
     "metadata": {
      "needs_background": "light"
     },
     "output_type": "display_data"
    }
   ],
   "source": [
    "y_prob=model.predict(X_train)\n",
    "y_pred=np.argmax(y_prob, axis=1)\n",
    "print(y_pred,'\\n',np.argmax(y_train, axis=1))\n",
    "print(\"Classification Report\")\n",
    "print(classification_report(np.argmax(y_train, axis=1),y_pred))\n",
    "plt.figure()\n",
    "plt.title(\"Confusion Matrix\")\n",
    "sns.heatmap(confusion_matrix(np.argmax(y_train, axis=1),y_pred), annot=True)\n",
    "plt.xticks((range(3)), ['                       Normal', '                          Pneumonia', '                           Covid-19'])\n",
    "plt.yticks((range(3)), ['Normal      ', 'Pneumonia    ', 'Covid-19      '])\n",
    "\n",
    "plt.show()"
   ]
  },
  {
   "cell_type": "markdown",
   "metadata": {},
   "source": [
    "### Model Save"
   ]
  },
  {
   "cell_type": "code",
   "execution_count": 232,
   "metadata": {},
   "outputs": [],
   "source": [
    "model.save(\"./Model/model\")"
   ]
  },
  {
   "cell_type": "markdown",
   "metadata": {},
   "source": [
    "## Summary"
   ]
  },
  {
   "cell_type": "code",
   "execution_count": 238,
   "metadata": {},
   "outputs": [
    {
     "name": "stdout",
     "output_type": "stream",
     "text": [
      "_________________________________________________________________\n",
      "Layer (type)                 Output Shape              Param #   \n",
      "=================================================================\n",
      "conv2d_245 (Conv2D)          (None, 100, 100, 100)     200       \n",
      "_________________________________________________________________\n",
      "activation_368 (Activation)  (None, 100, 100, 100)     0         \n",
      "_________________________________________________________________\n",
      "max_pooling2d_160 (MaxPoolin (None, 50, 50, 100)       0         \n",
      "_________________________________________________________________\n",
      "conv2d_246 (Conv2D)          (None, 49, 49, 80)        32080     \n",
      "_________________________________________________________________\n",
      "activation_369 (Activation)  (None, 49, 49, 80)        0         \n",
      "_________________________________________________________________\n",
      "max_pooling2d_161 (MaxPoolin (None, 24, 24, 80)        0         \n",
      "_________________________________________________________________\n",
      "conv2d_247 (Conv2D)          (None, 22, 22, 64)        46144     \n",
      "_________________________________________________________________\n",
      "activation_370 (Activation)  (None, 22, 22, 64)        0         \n",
      "_________________________________________________________________\n",
      "conv2d_248 (Conv2D)          (None, 20, 20, 32)        18464     \n",
      "_________________________________________________________________\n",
      "activation_371 (Activation)  (None, 20, 20, 32)        0         \n",
      "_________________________________________________________________\n",
      "conv2d_249 (Conv2D)          (None, 18, 18, 16)        4624      \n",
      "_________________________________________________________________\n",
      "activation_372 (Activation)  (None, 18, 18, 16)        0         \n",
      "_________________________________________________________________\n",
      "max_pooling2d_162 (MaxPoolin (None, 9, 9, 16)          0         \n",
      "_________________________________________________________________\n",
      "conv2d_250 (Conv2D)          (None, 7, 7, 16)          2320      \n",
      "_________________________________________________________________\n",
      "activation_373 (Activation)  (None, 7, 7, 16)          0         \n",
      "_________________________________________________________________\n",
      "max_pooling2d_163 (MaxPoolin (None, 3, 3, 16)          0         \n",
      "_________________________________________________________________\n",
      "flatten_45 (Flatten)         (None, 144)               0         \n",
      "_________________________________________________________________\n",
      "dense_123 (Dense)            (None, 64)                9280      \n",
      "_________________________________________________________________\n",
      "activation_374 (Activation)  (None, 64)                0         \n",
      "_________________________________________________________________\n",
      "dense_124 (Dense)            (None, 16)                1040      \n",
      "_________________________________________________________________\n",
      "activation_375 (Activation)  (None, 16)                0         \n",
      "_________________________________________________________________\n",
      "dense_125 (Dense)            (None, 3)                 51        \n",
      "_________________________________________________________________\n",
      "activation_376 (Activation)  (None, 3)                 0         \n",
      "=================================================================\n",
      "Total params: 114,203\n",
      "Trainable params: 114,203\n",
      "Non-trainable params: 0\n",
      "_________________________________________________________________\n"
     ]
    }
   ],
   "source": [
    "model.summary()"
   ]
  },
  {
   "cell_type": "code",
   "execution_count": null,
   "metadata": {},
   "outputs": [],
   "source": []
  }
 ],
 "metadata": {
  "kernelspec": {
   "display_name": "Python 3",
   "language": "python",
   "name": "python3"
  },
  "language_info": {
   "codemirror_mode": {
    "name": "ipython",
    "version": 3
   },
   "file_extension": ".py",
   "mimetype": "text/x-python",
   "name": "python",
   "nbconvert_exporter": "python",
   "pygments_lexer": "ipython3",
   "version": "3.7.3"
  }
 },
 "nbformat": 4,
 "nbformat_minor": 2
}
